{
  "nbformat": 4,
  "nbformat_minor": 0,
  "metadata": {
    "colab": {
      "provenance": [],
      "authorship_tag": "ABX9TyO0knSB2CJcI0HFvr2gHCL5",
      "include_colab_link": true
    },
    "kernelspec": {
      "name": "python3",
      "display_name": "Python 3"
    },
    "language_info": {
      "name": "python"
    }
  },
  "cells": [
    {
      "cell_type": "markdown",
      "metadata": {
        "id": "view-in-github",
        "colab_type": "text"
      },
      "source": [
        "<a href=\"https://colab.research.google.com/github/SukhmanpreetKaurManes/Miniproject---Marks-Adding/blob/main/Marks_Adding.ipynb\" target=\"_parent\"><img src=\"https://colab.research.google.com/assets/colab-badge.svg\" alt=\"Open In Colab\"/></a>"
      ]
    },
    {
      "cell_type": "code",
      "source": [
        "def aggregate_marks_dict(csv_path):\n",
        "    totals = {}\n",
        "    with open(csv_path, 'r') as f:\n",
        "        # skip header\n",
        "        f.readline()\n",
        "        for line in f:\n",
        "            parts = line.strip().split(',')\n",
        "            roll, mark_str = parts[0].strip(), parts[1].strip()\n",
        "            try:\n",
        "                mark = float(mark_str)\n",
        "            except ValueError:\n",
        "                continue\n",
        "            totals[roll] = totals.get(roll, 0.0) + mark\n",
        "    return totals\n",
        "\n",
        "def write_totals_to_file(totals, out_path):\n",
        "    \"\"\"\n",
        "    Writes the {roll: total_marks} dict to a CSV file.\n",
        "    \"\"\"\n",
        "    with open(out_path, 'w') as fout:\n",
        "        fout.write('RollNumber,TotalMarks\\n')\n",
        "        # sort by numeric roll when possible\n",
        "        for roll in sorted(totals, key=lambda r: int(r) if r.isdigit() else r):\n",
        "            fout.write(f'{roll},{totals[roll]}\\n')\n",
        "\n",
        "if __name__ == '__main__':\n",
        "    inp  = 'input/marks.csv'      # your source file\n",
        "    outp = 'output/result.html'   # file to generate\n",
        "\n",
        "    totals_dict = aggregate_marks_dict(inp)\n",
        "    write_totals_to_file(totals_dict, outp)\n",
        "    print(f'Done! Aggregated totals written to \"{outp}\".')\n"
      ],
      "metadata": {
        "colab": {
          "base_uri": "https://localhost:8080/"
        },
        "id": "R58SxEZaj5Ci",
        "outputId": "b2e3f64d-55cc-43eb-a57a-a4d468a11a2e"
      },
      "execution_count": 22,
      "outputs": [
        {
          "output_type": "stream",
          "name": "stdout",
          "text": [
            "Done! Aggregated totals written to \"output/result.html\".\n"
          ]
        }
      ]
    }
  ]
}